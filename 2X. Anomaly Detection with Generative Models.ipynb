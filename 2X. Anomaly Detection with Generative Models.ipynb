{
 "cells": [
  {
   "cell_type": "markdown",
   "metadata": {},
   "source": [
    "# Anomaly Detection with Generative Models"
   ]
  },
  {
   "cell_type": "markdown",
   "metadata": {},
   "source": [
    "Are the simple generative models that we created in the last notebook actually useful for anything? Certainly not for sampling, but perhaps they encode enough information to at least tell us if an image could have originated from our training distribution.\n",
    "\n",
    "To do this, we're going to consider the *likelihoods* given by our generative model. Since we originally trained our generative model to maximize the likelihood anyways, it makes sense that it should give a high value for the likelihood to images in our training dataset and other images similar to that. The hope is that it would give a low value of the likelihood to other images, not in our distribution. \n",
    "\n",
    "For this experiment, we're going to use 3 datasets of 28x28 black-and-white images:\n",
    "* MNIST\n",
    "* MNIST-Fashion\n",
    "* MNIST-Kenji"
   ]
  },
  {
   "cell_type": "code",
   "execution_count": 33,
   "metadata": {},
   "outputs": [
    {
     "name": "stdout",
     "output_type": "stream",
     "text": [
      "The autoreload extension is already loaded. To reload it, use:\n",
      "  %reload_ext autoreload\n"
     ]
    }
   ],
   "source": [
    "import tensorflow as tf\n",
    "import numpy as np\n",
    "import matplotlib.pyplot as plt\n",
    "from scripts import celeba_utils\n",
    "import os\n",
    "import glob\n",
    "\n",
    "%matplotlib inline\n",
    "%load_ext autoreload\n",
    "%autoreload 2"
   ]
  },
  {
   "cell_type": "markdown",
   "metadata": {},
   "source": [
    "## Loading MNIST Handwritten Digits"
   ]
  },
  {
   "cell_type": "code",
   "execution_count": 6,
   "metadata": {},
   "outputs": [
    {
     "data": {
      "image/png": "[encoded data removed]",
      "text/plain": [
       "<Figure size 1152x144 with 8 Axes>"
      ]
     },
     "metadata": {
      "needs_background": "light"
     },
     "output_type": "display_data"
    }
   ],
   "source": [
    "(x_train, y_train), _ = tf.keras.datasets.mnist.load_data()\n",
    "x_train = np.rint(x_train.astype(float)/255)  # Binarize the images.\n",
    "n_show = 8\n",
    "\n",
    "# Show some examples.\n",
    "_, ax = plt.subplots(1, 8, figsize=[16, 2])\n",
    "for i in range(n_show):\n",
    "    ax[i].imshow(x_train[i], cmap='gray')\n",
    "    ax[i].set_axis_off()"
   ]
  }
 ],
 "metadata": {
  "kernelspec": {
   "display_name": "Python 3.6 (tensorflow)",
   "language": "python",
   "name": "tensorflow"
  },
  "language_info": {
   "codemirror_mode": {
    "name": "ipython",
    "version": 3
   },
   "file_extension": ".py",
   "mimetype": "text/x-python",
   "name": "python",
   "nbconvert_exporter": "python",
   "pygments_lexer": "ipython3",
   "version": "3.6.7"
  }
 },
 "nbformat": 4,
 "nbformat_minor": 2
}
